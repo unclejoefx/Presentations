{
 "cells": [
  {
   "cell_type": "markdown",
   "id": "afc30f5b",
   "metadata": {},
   "source": [
    "## Artificial Intelligence (AI)\n",
    "\n",
    "AI is a field in which people have create smart algorithms that can learn from data. According to Wikipedia,\n",
    "Artificial intelligence (AI) is the intelligence of machines or software, as opposed to the intelligence of \n",
    "human beings or animals. AI can be demystify into two namely: Artificial Narrow Intelligence (ANI) and Artificial \n",
    "General Intelligence (AGI).As we proceed, we will talk a little about ANI and AGI.\n",
    "\n",
    "## Artificial Narrow Intelligence (ANI)\n",
    "\n",
    "Artificial Narrow Intelligence has emerged out to be one of the most popular terms of computer science in recent times. \n",
    "This article discusses one of the classifications of AI, ie. Artificial Narrow Intelligence (ANI). Examples: Smart speaker,\n",
    "self-driving car, websearch, AI in farming and factories, et al\n",
    "\n",
    "## Artificial General Itelligence (AGI)\n",
    "Artificial general intelligence (AGI) is the representation of generalized human cognitive abilities in software so that, \n",
    "faced with an unfamiliar task, the AGI system could find a solution. The intention of an AGI system is to perform any task\n",
    "that a human being is capable of. Meaning they are design to do what humans are capable of doing."
   ]
  },
  {
   "cell_type": "markdown",
   "id": "b6a2a5cb",
   "metadata": {},
   "source": [
    "## The Terminology of AI\n",
    "\n",
    "## 1.Machine Learning (ML)\n",
    "According to Arthur Samuel (1959), Maching Learning Is a field of study that gives computers the ability to learn without \n",
    "being explicitely programmed.\n",
    "\n",
    "## 2. Data Science\n",
    "This is a science of extracting knowledge and insights from data. The output of data is often slide deck"
   ]
  },
  {
   "cell_type": "code",
   "execution_count": null,
   "id": "0c7eeced",
   "metadata": {},
   "outputs": [],
   "source": [
    "## AI has many tools\n",
    "\n",
    "1. Machine learning and data science\n",
    "2. Deep learning/ neural network\n",
    "3. Other buzzewords: Unspervised learning, reinforcement learning, grahical models, planing knowledge graphs etc.."
   ]
  },
  {
   "cell_type": "code",
   "execution_count": 4,
   "id": "704cad35",
   "metadata": {},
   "outputs": [
    {
     "data": {
      "text/plain": [
       "'/home/uwajoe/presentations'"
      ]
     },
     "execution_count": 4,
     "metadata": {},
     "output_type": "execute_result"
    }
   ],
   "source": [
    "import os\n",
    "cwd = os.getcwd()\n",
    "cwd\n"
   ]
  },
  {
   "cell_type": "code",
   "execution_count": null,
   "id": "bc289464",
   "metadata": {},
   "outputs": [],
   "source": []
  }
 ],
 "metadata": {
  "kernelspec": {
   "display_name": "presentations",
   "language": "python",
   "name": "presentations"
  },
  "language_info": {
   "codemirror_mode": {
    "name": "ipython",
    "version": 3
   },
   "file_extension": ".py",
   "mimetype": "text/x-python",
   "name": "python",
   "nbconvert_exporter": "python",
   "pygments_lexer": "ipython3",
   "version": "3.11.4"
  }
 },
 "nbformat": 4,
 "nbformat_minor": 5
}
