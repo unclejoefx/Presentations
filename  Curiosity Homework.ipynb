{
 "cells": [
  {
   "cell_type": "markdown",
   "id": "319095f5",
   "metadata": {
    "slideshow": {
     "slide_type": "slide"
    }
   },
   "source": [
    "## Prompt Engineering (PE)\n",
    "* Prompt Engineering is the art of constructing inputs (prompts) to Large Language Models (LLMs) to get them to output (respond) with the information you want.\n",
    "* It is also a process of refining our prompt over time.\n",
    "* They can be classified into various parts but here we will stick only four parts, namely; Basics, Basic Applications, Intermediate, Applied prompting.\n"
   ]
  },
  {
   "cell_type": "markdown",
   "id": "f5e4e4b5",
   "metadata": {
    "slideshow": {
     "slide_type": "slide"
    }
   },
   "source": [
    "## Basics - Introduction to AI\n",
    "* Artificial Inteligence (AI) is a field in which people created smart algorithms that is capable of learning from data fed to the system.\n",
    "* We have various AI models, but for the sake of this presentations, we will focus more on Generative AI."
   ]
  },
  {
   "cell_type": "markdown",
   "id": "d73ef398",
   "metadata": {
    "slideshow": {
     "slide_type": "slide"
    }
   },
   "source": [
    " ## Now, What is Generative AI (Gen AI)?\n",
    "* It is a type of AI that is able to create new content, just like humans. Examples, They can write essays, solve math problems, and can even win an art competitions just like humans. This is in no way undermining the uniqueness of our work (humans). Though Gen AI are very useful, it requires humans to direct it on what to do each time, meaning they are not agent to themselves, and therefor cannot act on their own, unless humans directs them on what to do.Interesting, huh!\n",
    "* One way we can instruct Gen AI,is by sending it a prompt, which is usually a text instructions (such as questions, request et al)\n",
    "* It is also important to note that, Gen AIs that read and write text are called Large Language Models (LLMs).\n",
    "* Gen AI can be used to automate creative task that only humans have been able to do. This saves time and resources(money)."
   ]
  },
  {
   "cell_type": "markdown",
   "id": "e174af21",
   "metadata": {
    "slideshow": {
     "slide_type": "slide"
    }
   },
   "source": [
    "## Few Applications of Gen AI\n",
    "* Writting status reports \n",
    "* Generative marketing content\n",
    "* Explaining and simplyfying content"
   ]
  }
 ],
 "metadata": {
  "celltoolbar": "Slideshow",
  "kernelspec": {
   "display_name": "presentations",
   "language": "python",
   "name": "presentations"
  },
  "language_info": {
   "codemirror_mode": {
    "name": "ipython",
    "version": 3
   },
   "file_extension": ".py",
   "mimetype": "text/x-python",
   "name": "python",
   "nbconvert_exporter": "python",
   "pygments_lexer": "ipython3",
   "version": "3.11.4"
  }
 },
 "nbformat": 4,
 "nbformat_minor": 5
}
