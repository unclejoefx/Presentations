{
 "cells": [
  {
   "cell_type": "markdown",
   "id": "dd75ccf2",
   "metadata": {},
   "source": [
    "## Introduction to AI\n",
    "\n",
    "* AI is a field in which people have created smart algorithms that can learn from data\n",
    "* There are many types od AI, but we will focus on Generative AI (Gen AI)\n",
    "* You might be curious to ask, what is Gen AI? - stict with me as I work you through.\n"
   ]
  },
  {
   "cell_type": "markdown",
   "id": "08fbc233",
   "metadata": {},
   "source": [
    "## Generative AI\n",
    "* Generative AI is a type of AI that is able to create new contents, just like humans can, but don't be mistaken that Gen AI is superior to humans, because it is not.\n",
    "* Though it is useful, it requires a close monitoring by humans each time a task is to be perform, E.g, Just like we were setting up our WLS and installing our Ubuntun, bash , fish et al so we can make use of those tools later on, Gen AI does not know a task to carry at that time, unless a command is given to it.\n",
    "* To address this, Gen AI can be instructed by sending it a prompt, usually in text.\n",
    "* Basically, Gen AIs that read and write text are called Large Language Models (LLMs)\n",
    "* Gen AI can be used to automate creative task that sofar only humans have been able to do. This saves time and resourses( money)"
   ]
  },
  {
   "cell_type": "markdown",
   "id": "c3a4c5fe",
   "metadata": {},
   "source": [
    "## Few Applications\n",
    "* Writing status reports - This will help me and the team in task assigned to us"
   ]
  },
  {
   "cell_type": "code",
   "execution_count": null,
   "id": "d23a9908",
   "metadata": {},
   "outputs": [],
   "source": []
  }
 ],
 "metadata": {
  "kernelspec": {
   "display_name": "presentations",
   "language": "python",
   "name": "presentations"
  },
  "language_info": {
   "codemirror_mode": {
    "name": "ipython",
    "version": 3
   },
   "file_extension": ".py",
   "mimetype": "text/x-python",
   "name": "python",
   "nbconvert_exporter": "python",
   "pygments_lexer": "ipython3",
   "version": "3.11.4"
  }
 },
 "nbformat": 4,
 "nbformat_minor": 5
}
