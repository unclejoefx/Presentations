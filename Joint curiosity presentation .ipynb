{
 "cells": [
  {
   "cell_type": "markdown",
   "id": "31c7433c",
   "metadata": {
    "slideshow": {
     "slide_type": "slide"
    }
   },
   "source": [
    "## Project Title: \"Security Tracking Chip: Enhancing Personal and Asset Security\"\n",
    "\n",
    "\n",
    "## Authors: Uwa Joseph & Alewi Boluwatife\n",
    "\n",
    "## August, 2023\n",
    "\n"
   ]
  },
  {
   "cell_type": "markdown",
   "id": "d59ffbc5",
   "metadata": {
    "slideshow": {
     "slide_type": "slide"
    }
   },
   "source": [
    "## Introduction\n",
    "\n",
    "Security is protection from, or resilience against, potential harm (or other unwanted coercion) caused by others, \n",
    "by restraining the freedom of others to act. Beneficiaries (technically referents) of security may be of persons \n",
    "and social groups, objects and institutions, ecosystems or any other entity or phenomenon vulnerable to unwanted change.\n",
    "\n",
    "Personal Security is a state of being that occurs after all reasonable and adequate measures have been taken to deter or\n",
    "delay a crime or possible crime, as well as adequate provision being made to warn against such a possible crime, in order\n",
    "to protect our assets\n",
    "\n",
    "This project will help us initiate a trained AI model that will help in reducing theft such as personal belongings."
   ]
  },
  {
   "cell_type": "markdown",
   "id": "398d1845",
   "metadata": {
    "slideshow": {
     "slide_type": "slide"
    }
   },
   "source": [
    "## Growing concerns about Asset Security\n",
    "\n",
    "There are many security risks and concerns regarding asset security. According to Gartner, Inc., security leaders must evolve\n",
    "strategies to protect an expanding digital footprint against emerging threats. Security and risk management leaders must address\n",
    "seven top trends to protect the ever-expanding digital footprint of modern organizations against new and emerging threats in\n",
    "2022 and beyond. \n",
    "There are many risks associated with the use of cyber-physical systems and IoT, open-source code, cloud applications, complex \n",
    "digital supply chains, social media and more have brought organizations’ exposed surfaces outside of a set of controllable \n",
    "assets. Organizations must look beyond traditional approaches to security monitoring, detection and response to manage a wider \n",
    "set of security exposures."
   ]
  },
  {
   "cell_type": "markdown",
   "id": "5954b765",
   "metadata": {
    "slideshow": {
     "slide_type": "slide"
    }
   },
   "source": [
    "## Purpose of Security Tracking Chip\n",
    "\n",
    "A security tracking chip is a microchip that is often built into a computer to provide hardware-based security. It can be \n",
    "added later by industrious users who attach the chip to the motherboard. Some of the data we transmit throughout the day is \n",
    "sent unencrypted, as plain text. TPM chips use a mix of software and hardware to protect any important passwords or encryption\n",
    "keys when they are sent in this unencrypted form. If a TPM chip senses that a system's integrity has been compromised by a \n",
    "virus or malware, it can start up in a quarantine mode to help fix the problem. TPM chips also provide safe storage of \n",
    "encryption keys, certificates and passwords used for logging in to online services, which is a more secure method than storing\n",
    "them inside software on the hard drive.\n",
    "If the device is also stolen, the original user can login (cloud) and automatical trigger the alarm system and the person that \n",
    "stole will be caught using the device in-built GPS.\n",
    "\n",
    "\n",
    "\n"
   ]
  },
  {
   "cell_type": "markdown",
   "id": "f20873a6",
   "metadata": {
    "slideshow": {
     "slide_type": "slide"
    }
   },
   "source": [
    "## Use Cases\n",
    "\n",
    "This can be applied in many instances and can be used in real practical scenerios as listed below;\n",
    "\n",
    "1. Present practical scenarios where the security tracking chip can be used:Personal Belongings: Prevent loss of\n",
    "   valuable items like smartphones, wallets, and keys.\n",
    "2. Vehicle Tracking: Monitor the location of vehicles for theft prevention.\n",
    "\n",
    "3. Tracking of election results and report it in real-time.\n",
    "    \n",
    "4. Pet Tracking: Keep track of pets during walks or outdoor activities et al.\n",
    "    "
   ]
  },
  {
   "cell_type": "markdown",
   "id": "a9918b8e",
   "metadata": {
    "slideshow": {
     "slide_type": "slide"
    }
   },
   "source": [
    "## Conclusion\n",
    "\n",
    "Ensuring the safety of our devices, properties et al is extremely important just like securing or our own lives and that of \n",
    "our family.  For this, we Boluwatife and I thought of ways in which we can provide an efficient and enhancing our personal \n",
    "security and as well as safe-guarding our assets. Doing so will help in reduction of theft and crime rate in the society.\n",
    "\n",
    "\n",
    "\n"
   ]
  },
  {
   "cell_type": "markdown",
   "id": "7641df41",
   "metadata": {
    "slideshow": {
     "slide_type": "slide"
    }
   },
   "source": [
    "## THANK YOU!!!\n",
    "\n",
    "## BY\n",
    "    \n",
    "## UWA JOSEPH AND ALEWI BOLUWATIFE"
   ]
  }
 ],
 "metadata": {
  "celltoolbar": "Slideshow",
  "kernelspec": {
   "display_name": "presentations",
   "language": "python",
   "name": "presentations"
  },
  "language_info": {
   "codemirror_mode": {
    "name": "ipython",
    "version": 3
   },
   "file_extension": ".py",
   "mimetype": "text/x-python",
   "name": "python",
   "nbconvert_exporter": "python",
   "pygments_lexer": "ipython3",
   "version": "3.11.4"
  }
 },
 "nbformat": 4,
 "nbformat_minor": 5
}
