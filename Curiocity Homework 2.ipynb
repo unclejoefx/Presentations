{
 "cells": [
  {
   "cell_type": "markdown",
   "id": "622ec4e5",
   "metadata": {
    "slideshow": {
     "slide_type": "slide"
    }
   },
   "source": [
    "## Project Title: Language Translation\n",
    "\n",
    "## Author: Uwa Joseph\n",
    "\n",
    "## August, 2023\n"
   ]
  },
  {
   "cell_type": "markdown",
   "id": "7be3eed1",
   "metadata": {
    "slideshow": {
     "slide_type": "slide"
    }
   },
   "source": [
    "## Introduction\n",
    "\n",
    "Translation plays a vital role in the contemporary world. It enables effective communication between people around the world\n",
    "and is a courier for the transmission of knowledge, a protector of cultural heritage, and essential to the development of a \n",
    "global economy. The role that translation plays in everyday life is getting more and more prominent. Because we are constantly\n",
    "evolving, growing closer as a global community, rather than a divided collection of people, it’s even more necessary to have \n",
    "translation services.\n",
    "\n",
    "There are many different situations where you will need a professional translation service, and translation plays a vital role\n",
    "in the contemporary world. For example, in the medical world, language barriers will exist in a hospital or general practice,\n",
    "even between local inhabitants of the area and the professionals themselves. Our communities are so diverse now from a \n",
    "linguistics point of view. We have so many instances where it is necessary to have consent forms, intake forms, medical \n",
    "instructions and documents describing surgical procedures all translated into another language. When one considers that an \n",
    "incorrect translation may result in severe injury or even death, the need for accurate and prompt translation services is \n",
    "evident. \n",
    "\n",
    "International business is more common now than ever before. Thanks to growing technology and an enhanced awareness of the power\n",
    "of a global market, more companies are venturing onto the grand stage. Marketing, manufacturing, economics, and agricultural \n",
    "services are just a few examples of industries which have the potential for a global audience and require translation skills. \n",
    "The need for translation is present in a broad selection of ways. Whether it is providing effective communication between a company\n",
    "and their foreign business partner, translating a business document or helping to make sure that your website content is accurately \n",
    "transformed into another language.\n",
    "\n",
    "Translation also plays an important role in legal documents. The law is an almost universal constant, regardless of where \n",
    "you go in the world, you will encounter many regulations.\n"
   ]
  },
  {
   "cell_type": "markdown",
   "id": "e225d0e5",
   "metadata": {
    "slideshow": {
     "slide_type": "slide"
    }
   },
   "source": [
    "## Importance of translators\n",
    "\n",
    "1. Translators act as a communication medium between two languages, two different cultures, and two very different people.\n",
    "   Hence, enabling an effective communication all over the world. \n",
    "\n",
    "2. Translators help keep ideas and philosophies alive.\n",
    "\n",
    "3. Translation aids sports teams and organizations in overcoming language barriers and take their sport internationally.\n",
    "\n",
    "4. Translation promotes tourism, et al\n",
    "\n"
   ]
  },
  {
   "cell_type": "markdown",
   "id": "6829228c",
   "metadata": {
    "slideshow": {
     "slide_type": "slide"
    }
   },
   "source": [
    "## Why do we need translators in our websites?\n",
    "\n",
    "The world is a very big global market with over 7000 spoken languagues. A website that is built for the use of everyone \n",
    "all over globe, should be able to have languague translators for an effective user interpretation. This will allow all its\n",
    "users all over the world to communicate freely one with another. We can see big companies like Google, Apple, and Tesla et al\n",
    "all integrating this. There are several reasons why we need it, but I will list a few;\n",
    "\n",
    "\n",
    "1. Quality: Professional translators are your best bet for high-quality website translation that feels true to your brand and \n",
    "    resonates with your audience.\n",
    "    \n",
    "\n",
    "2. Specialization: Translators often specialize in a given market, region, or dialect.\n",
    "    \n",
    "    \n",
    "3. Workflow: You can work with freelance translators or hire them through an agency.\n",
    "    \n",
    "    \n",
    "4. Website translation service providers accurately translate websites between different languages and are able to create \n",
    "   multi-language websites."
   ]
  },
  {
   "cell_type": "markdown",
   "id": "ea473b27",
   "metadata": {
    "slideshow": {
     "slide_type": "slide"
    }
   },
   "source": [
    "## Conclusion\n",
    "\n",
    "While traslators are crucial and effective tool in making your website unique, it is important to consider the needs of your \n",
    "audience, community as well as users. It is important to carry out a survey in your community and with that you can get suggestions\n",
    "on the languagues that the translators should have (e.g suggestions might come in for you to include some native languagues available in many African countries and the West)\n",
    "\n",
    "The need for translation is present in a broad selection of ways. Whether it is providing effective communication between a company and their foreign business partner, translating\n",
    "a business document or helping to make sure that your website content is accurately transformed into another language.\n",
    "\n",
    "It is true that the English is the most predorminant language spoken in the world with over 1.452 billion speakers. But this does not mean that our website should only be for\n",
    "English speakers, hence, this traslator comes in to fill in that gap and create a more effective and unified world of communication."
   ]
  },
  {
   "cell_type": "markdown",
   "id": "7bdd762e",
   "metadata": {
    "slideshow": {
     "slide_type": "slide"
    }
   },
   "source": [
    "## Thank You!!!\n",
    "\n",
    "## The floor is open for questions\n",
    "\n",
    "## Presentation by Uwa Joseph"
   ]
  }
 ],
 "metadata": {
  "celltoolbar": "Slideshow",
  "kernelspec": {
   "display_name": "presentations",
   "language": "python",
   "name": "presentations"
  },
  "language_info": {
   "codemirror_mode": {
    "name": "ipython",
    "version": 3
   },
   "file_extension": ".py",
   "mimetype": "text/x-python",
   "name": "python",
   "nbconvert_exporter": "python",
   "pygments_lexer": "ipython3",
   "version": "3.11.4"
  }
 },
 "nbformat": 4,
 "nbformat_minor": 5
}
